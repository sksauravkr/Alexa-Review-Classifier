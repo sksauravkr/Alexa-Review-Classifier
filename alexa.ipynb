{
  "nbformat": 4,
  "nbformat_minor": 0,
  "metadata": {
    "colab": {
      "name": "alexa.ipynb",
      "version": "0.3.2",
      "provenance": []
    },
    "kernelspec": {
      "name": "python3",
      "display_name": "Python 3"
    }
  },
  "cells": [
    {
      "metadata": {
        "id": "G_hpBeHGf0J2",
        "colab_type": "code",
        "colab": {}
      },
      "cell_type": "code",
      "source": [
        "import pandas as pd\n",
        "import numpy as np\n",
        "import matplotlib.pyplot as plt"
      ],
      "execution_count": 0,
      "outputs": []
    },
    {
      "metadata": {
        "id": "yi2C-X3wgJWH",
        "colab_type": "code",
        "colab": {}
      },
      "cell_type": "code",
      "source": [
        "from google.colab import files"
      ],
      "execution_count": 0,
      "outputs": []
    },
    {
      "metadata": {
        "id": "0vVyOrKQgb9p",
        "colab_type": "code",
        "outputId": "b2b5b762-958a-4f25-f522-f415fdfd6869",
        "colab": {
          "resources": {
            "http://localhost:8080/nbextensions/google.colab/files.js": {
              "data": "Ly8gQ29weXJpZ2h0IDIwMTcgR29vZ2xlIExMQwovLwovLyBMaWNlbnNlZCB1bmRlciB0aGUgQXBhY2hlIExpY2Vuc2UsIFZlcnNpb24gMi4wICh0aGUgIkxpY2Vuc2UiKTsKLy8geW91IG1heSBub3QgdXNlIHRoaXMgZmlsZSBleGNlcHQgaW4gY29tcGxpYW5jZSB3aXRoIHRoZSBMaWNlbnNlLgovLyBZb3UgbWF5IG9idGFpbiBhIGNvcHkgb2YgdGhlIExpY2Vuc2UgYXQKLy8KLy8gICAgICBodHRwOi8vd3d3LmFwYWNoZS5vcmcvbGljZW5zZXMvTElDRU5TRS0yLjAKLy8KLy8gVW5sZXNzIHJlcXVpcmVkIGJ5IGFwcGxpY2FibGUgbGF3IG9yIGFncmVlZCB0byBpbiB3cml0aW5nLCBzb2Z0d2FyZQovLyBkaXN0cmlidXRlZCB1bmRlciB0aGUgTGljZW5zZSBpcyBkaXN0cmlidXRlZCBvbiBhbiAiQVMgSVMiIEJBU0lTLAovLyBXSVRIT1VUIFdBUlJBTlRJRVMgT1IgQ09ORElUSU9OUyBPRiBBTlkgS0lORCwgZWl0aGVyIGV4cHJlc3Mgb3IgaW1wbGllZC4KLy8gU2VlIHRoZSBMaWNlbnNlIGZvciB0aGUgc3BlY2lmaWMgbGFuZ3VhZ2UgZ292ZXJuaW5nIHBlcm1pc3Npb25zIGFuZAovLyBsaW1pdGF0aW9ucyB1bmRlciB0aGUgTGljZW5zZS4KCi8qKgogKiBAZmlsZW92ZXJ2aWV3IEhlbHBlcnMgZm9yIGdvb2dsZS5jb2xhYiBQeXRob24gbW9kdWxlLgogKi8KKGZ1bmN0aW9uKHNjb3BlKSB7CmZ1bmN0aW9uIHNwYW4odGV4dCwgc3R5bGVBdHRyaWJ1dGVzID0ge30pIHsKICBjb25zdCBlbGVtZW50ID0gZG9jdW1lbnQuY3JlYXRlRWxlbWVudCgnc3BhbicpOwogIGVsZW1lbnQudGV4dENvbnRlbnQgPSB0ZXh0OwogIGZvciAoY29uc3Qga2V5IG9mIE9iamVjdC5rZXlzKHN0eWxlQXR0cmlidXRlcykpIHsKICAgIGVsZW1lbnQuc3R5bGVba2V5XSA9IHN0eWxlQXR0cmlidXRlc1trZXldOwogIH0KICByZXR1cm4gZWxlbWVudDsKfQoKLy8gTWF4IG51bWJlciBvZiBieXRlcyB3aGljaCB3aWxsIGJlIHVwbG9hZGVkIGF0IGEgdGltZS4KY29uc3QgTUFYX1BBWUxPQURfU0laRSA9IDEwMCAqIDEwMjQ7Ci8vIE1heCBhbW91bnQgb2YgdGltZSB0byBibG9jayB3YWl0aW5nIGZvciB0aGUgdXNlci4KY29uc3QgRklMRV9DSEFOR0VfVElNRU9VVF9NUyA9IDMwICogMTAwMDsKCmZ1bmN0aW9uIF91cGxvYWRGaWxlcyhpbnB1dElkLCBvdXRwdXRJZCkgewogIGNvbnN0IHN0ZXBzID0gdXBsb2FkRmlsZXNTdGVwKGlucHV0SWQsIG91dHB1dElkKTsKICBjb25zdCBvdXRwdXRFbGVtZW50ID0gZG9jdW1lbnQuZ2V0RWxlbWVudEJ5SWQob3V0cHV0SWQpOwogIC8vIENhY2hlIHN0ZXBzIG9uIHRoZSBvdXRwdXRFbGVtZW50IHRvIG1ha2UgaXQgYXZhaWxhYmxlIGZvciB0aGUgbmV4dCBjYWxsCiAgLy8gdG8gdXBsb2FkRmlsZXNDb250aW51ZSBmcm9tIFB5dGhvbi4KICBvdXRwdXRFbGVtZW50LnN0ZXBzID0gc3RlcHM7CgogIHJldHVybiBfdXBsb2FkRmlsZXNDb250aW51ZShvdXRwdXRJZCk7Cn0KCi8vIFRoaXMgaXMgcm91Z2hseSBhbiBhc3luYyBnZW5lcmF0b3IgKG5vdCBzdXBwb3J0ZWQgaW4gdGhlIGJyb3dzZXIgeWV0KSwKLy8gd2hlcmUgdGhlcmUgYXJlIG11bHRpcGxlIGFzeW5jaHJvbm91cyBzdGVwcyBhbmQgdGhlIFB5dGhvbiBzaWRlIGlzIGdvaW5nCi8vIHRvIHBvbGwgZm9yIGNvbXBsZXRpb24gb2YgZWFjaCBzdGVwLgovLyBUaGlzIHVzZXMgYSBQcm9taXNlIHRvIGJsb2NrIHRoZSBweXRob24gc2lkZSBvbiBjb21wbGV0aW9uIG9mIGVhY2ggc3RlcCwKLy8gdGhlbiBwYXNzZXMgdGhlIHJlc3VsdCBvZiB0aGUgcHJldmlvdXMgc3RlcCBhcyB0aGUgaW5wdXQgdG8gdGhlIG5leHQgc3RlcC4KZnVuY3Rpb24gX3VwbG9hZEZpbGVzQ29udGludWUob3V0cHV0SWQpIHsKICBjb25zdCBvdXRwdXRFbGVtZW50ID0gZG9jdW1lbnQuZ2V0RWxlbWVudEJ5SWQob3V0cHV0SWQpOwogIGNvbnN0IHN0ZXBzID0gb3V0cHV0RWxlbWVudC5zdGVwczsKCiAgY29uc3QgbmV4dCA9IHN0ZXBzLm5leHQob3V0cHV0RWxlbWVudC5sYXN0UHJvbWlzZVZhbHVlKTsKICByZXR1cm4gUHJvbWlzZS5yZXNvbHZlKG5leHQudmFsdWUucHJvbWlzZSkudGhlbigodmFsdWUpID0+IHsKICAgIC8vIENhY2hlIHRoZSBsYXN0IHByb21pc2UgdmFsdWUgdG8gbWFrZSBpdCBhdmFpbGFibGUgdG8gdGhlIG5leHQKICAgIC8vIHN0ZXAgb2YgdGhlIGdlbmVyYXRvci4KICAgIG91dHB1dEVsZW1lbnQubGFzdFByb21pc2VWYWx1ZSA9IHZhbHVlOwogICAgcmV0dXJuIG5leHQudmFsdWUucmVzcG9uc2U7CiAgfSk7Cn0KCi8qKgogKiBHZW5lcmF0b3IgZnVuY3Rpb24gd2hpY2ggaXMgY2FsbGVkIGJldHdlZW4gZWFjaCBhc3luYyBzdGVwIG9mIHRoZSB1cGxvYWQKICogcHJvY2Vzcy4KICogQHBhcmFtIHtzdHJpbmd9IGlucHV0SWQgRWxlbWVudCBJRCBvZiB0aGUgaW5wdXQgZmlsZSBwaWNrZXIgZWxlbWVudC4KICogQHBhcmFtIHtzdHJpbmd9IG91dHB1dElkIEVsZW1lbnQgSUQgb2YgdGhlIG91dHB1dCBkaXNwbGF5LgogKiBAcmV0dXJuIHshSXRlcmFibGU8IU9iamVjdD59IEl0ZXJhYmxlIG9mIG5leHQgc3RlcHMuCiAqLwpmdW5jdGlvbiogdXBsb2FkRmlsZXNTdGVwKGlucHV0SWQsIG91dHB1dElkKSB7CiAgY29uc3QgaW5wdXRFbGVtZW50ID0gZG9jdW1lbnQuZ2V0RWxlbWVudEJ5SWQoaW5wdXRJZCk7CiAgaW5wdXRFbGVtZW50LmRpc2FibGVkID0gZmFsc2U7CgogIGNvbnN0IG91dHB1dEVsZW1lbnQgPSBkb2N1bWVudC5nZXRFbGVtZW50QnlJZChvdXRwdXRJZCk7CiAgb3V0cHV0RWxlbWVudC5pbm5lckhUTUwgPSAnJzsKCiAgY29uc3QgcGlja2VkUHJvbWlzZSA9IG5ldyBQcm9taXNlKChyZXNvbHZlKSA9PiB7CiAgICBpbnB1dEVsZW1lbnQuYWRkRXZlbnRMaXN0ZW5lcignY2hhbmdlJywgKGUpID0+IHsKICAgICAgcmVzb2x2ZShlLnRhcmdldC5maWxlcyk7CiAgICB9KTsKICB9KTsKCiAgY29uc3QgY2FuY2VsID0gZG9jdW1lbnQuY3JlYXRlRWxlbWVudCgnYnV0dG9uJyk7CiAgaW5wdXRFbGVtZW50LnBhcmVudEVsZW1lbnQuYXBwZW5kQ2hpbGQoY2FuY2VsKTsKICBjYW5jZWwudGV4dENvbnRlbnQgPSAnQ2FuY2VsIHVwbG9hZCc7CiAgY29uc3QgY2FuY2VsUHJvbWlzZSA9IG5ldyBQcm9taXNlKChyZXNvbHZlKSA9PiB7CiAgICBjYW5jZWwub25jbGljayA9ICgpID0+IHsKICAgICAgcmVzb2x2ZShudWxsKTsKICAgIH07CiAgfSk7CgogIC8vIENhbmNlbCB1cGxvYWQgaWYgdXNlciBoYXNuJ3QgcGlja2VkIGFueXRoaW5nIGluIHRpbWVvdXQuCiAgY29uc3QgdGltZW91dFByb21pc2UgPSBuZXcgUHJvbWlzZSgocmVzb2x2ZSkgPT4gewogICAgc2V0VGltZW91dCgoKSA9PiB7CiAgICAgIHJlc29sdmUobnVsbCk7CiAgICB9LCBGSUxFX0NIQU5HRV9USU1FT1VUX01TKTsKICB9KTsKCiAgLy8gV2FpdCBmb3IgdGhlIHVzZXIgdG8gcGljayB0aGUgZmlsZXMuCiAgY29uc3QgZmlsZXMgPSB5aWVsZCB7CiAgICBwcm9taXNlOiBQcm9taXNlLnJhY2UoW3BpY2tlZFByb21pc2UsIHRpbWVvdXRQcm9taXNlLCBjYW5jZWxQcm9taXNlXSksCiAgICByZXNwb25zZTogewogICAgICBhY3Rpb246ICdzdGFydGluZycsCiAgICB9CiAgfTsKCiAgaWYgKCFmaWxlcykgewogICAgcmV0dXJuIHsKICAgICAgcmVzcG9uc2U6IHsKICAgICAgICBhY3Rpb246ICdjb21wbGV0ZScsCiAgICAgIH0KICAgIH07CiAgfQoKICBjYW5jZWwucmVtb3ZlKCk7CgogIC8vIERpc2FibGUgdGhlIGlucHV0IGVsZW1lbnQgc2luY2UgZnVydGhlciBwaWNrcyBhcmUgbm90IGFsbG93ZWQuCiAgaW5wdXRFbGVtZW50LmRpc2FibGVkID0gdHJ1ZTsKCiAgZm9yIChjb25zdCBmaWxlIG9mIGZpbGVzKSB7CiAgICBjb25zdCBsaSA9IGRvY3VtZW50LmNyZWF0ZUVsZW1lbnQoJ2xpJyk7CiAgICBsaS5hcHBlbmQoc3BhbihmaWxlLm5hbWUsIHtmb250V2VpZ2h0OiAnYm9sZCd9KSk7CiAgICBsaS5hcHBlbmQoc3BhbigKICAgICAgICBgKCR7ZmlsZS50eXBlIHx8ICduL2EnfSkgLSAke2ZpbGUuc2l6ZX0gYnl0ZXMsIGAgKwogICAgICAgIGBsYXN0IG1vZGlmaWVkOiAkewogICAgICAgICAgICBmaWxlLmxhc3RNb2RpZmllZERhdGUgPyBmaWxlLmxhc3RNb2RpZmllZERhdGUudG9Mb2NhbGVEYXRlU3RyaW5nKCkgOgogICAgICAgICAgICAgICAgICAgICAgICAgICAgICAgICAgICAnbi9hJ30gLSBgKSk7CiAgICBjb25zdCBwZXJjZW50ID0gc3BhbignMCUgZG9uZScpOwogICAgbGkuYXBwZW5kQ2hpbGQocGVyY2VudCk7CgogICAgb3V0cHV0RWxlbWVudC5hcHBlbmRDaGlsZChsaSk7CgogICAgY29uc3QgZmlsZURhdGFQcm9taXNlID0gbmV3IFByb21pc2UoKHJlc29sdmUpID0+IHsKICAgICAgY29uc3QgcmVhZGVyID0gbmV3IEZpbGVSZWFkZXIoKTsKICAgICAgcmVhZGVyLm9ubG9hZCA9IChlKSA9PiB7CiAgICAgICAgcmVzb2x2ZShlLnRhcmdldC5yZXN1bHQpOwogICAgICB9OwogICAgICByZWFkZXIucmVhZEFzQXJyYXlCdWZmZXIoZmlsZSk7CiAgICB9KTsKICAgIC8vIFdhaXQgZm9yIHRoZSBkYXRhIHRvIGJlIHJlYWR5LgogICAgbGV0IGZpbGVEYXRhID0geWllbGQgewogICAgICBwcm9taXNlOiBmaWxlRGF0YVByb21pc2UsCiAgICAgIHJlc3BvbnNlOiB7CiAgICAgICAgYWN0aW9uOiAnY29udGludWUnLAogICAgICB9CiAgICB9OwoKICAgIC8vIFVzZSBhIGNodW5rZWQgc2VuZGluZyB0byBhdm9pZCBtZXNzYWdlIHNpemUgbGltaXRzLiBTZWUgYi82MjExNTY2MC4KICAgIGxldCBwb3NpdGlvbiA9IDA7CiAgICB3aGlsZSAocG9zaXRpb24gPCBmaWxlRGF0YS5ieXRlTGVuZ3RoKSB7CiAgICAgIGNvbnN0IGxlbmd0aCA9IE1hdGgubWluKGZpbGVEYXRhLmJ5dGVMZW5ndGggLSBwb3NpdGlvbiwgTUFYX1BBWUxPQURfU0laRSk7CiAgICAgIGNvbnN0IGNodW5rID0gbmV3IFVpbnQ4QXJyYXkoZmlsZURhdGEsIHBvc2l0aW9uLCBsZW5ndGgpOwogICAgICBwb3NpdGlvbiArPSBsZW5ndGg7CgogICAgICBjb25zdCBiYXNlNjQgPSBidG9hKFN0cmluZy5mcm9tQ2hhckNvZGUuYXBwbHkobnVsbCwgY2h1bmspKTsKICAgICAgeWllbGQgewogICAgICAgIHJlc3BvbnNlOiB7CiAgICAgICAgICBhY3Rpb246ICdhcHBlbmQnLAogICAgICAgICAgZmlsZTogZmlsZS5uYW1lLAogICAgICAgICAgZGF0YTogYmFzZTY0LAogICAgICAgIH0sCiAgICAgIH07CiAgICAgIHBlcmNlbnQudGV4dENvbnRlbnQgPQogICAgICAgICAgYCR7TWF0aC5yb3VuZCgocG9zaXRpb24gLyBmaWxlRGF0YS5ieXRlTGVuZ3RoKSAqIDEwMCl9JSBkb25lYDsKICAgIH0KICB9CgogIC8vIEFsbCBkb25lLgogIHlpZWxkIHsKICAgIHJlc3BvbnNlOiB7CiAgICAgIGFjdGlvbjogJ2NvbXBsZXRlJywKICAgIH0KICB9Owp9CgpzY29wZS5nb29nbGUgPSBzY29wZS5nb29nbGUgfHwge307CnNjb3BlLmdvb2dsZS5jb2xhYiA9IHNjb3BlLmdvb2dsZS5jb2xhYiB8fCB7fTsKc2NvcGUuZ29vZ2xlLmNvbGFiLl9maWxlcyA9IHsKICBfdXBsb2FkRmlsZXMsCiAgX3VwbG9hZEZpbGVzQ29udGludWUsCn07Cn0pKHNlbGYpOwo=",
              "ok": true,
              "headers": [
                [
                  "content-type",
                  "application/javascript"
                ]
              ],
              "status": 200,
              "status_text": ""
            }
          },
          "base_uri": "https://localhost:8080/",
          "height": 74
        }
      },
      "cell_type": "code",
      "source": [
        "uploaded = files.upload()"
      ],
      "execution_count": 0,
      "outputs": [
        {
          "output_type": "display_data",
          "data": {
            "text/html": [
              "\n",
              "     <input type=\"file\" id=\"files-5378e313-c686-4b9b-8ebf-d345d30c98f2\" name=\"files[]\" multiple disabled />\n",
              "     <output id=\"result-5378e313-c686-4b9b-8ebf-d345d30c98f2\">\n",
              "      Upload widget is only available when the cell has been executed in the\n",
              "      current browser session. Please rerun this cell to enable.\n",
              "      </output>\n",
              "      <script src=\"/nbextensions/google.colab/files.js\"></script> "
            ],
            "text/plain": [
              "<IPython.core.display.HTML object>"
            ]
          },
          "metadata": {
            "tags": []
          }
        },
        {
          "output_type": "stream",
          "text": [
            "Saving amazon_alexa.tsv to amazon_alexa.tsv\n"
          ],
          "name": "stdout"
        }
      ]
    },
    {
      "metadata": {
        "id": "r0pgZ8LngfC6",
        "colab_type": "code",
        "colab": {}
      },
      "cell_type": "code",
      "source": [
        "dataset = pd.read_csv('amazon_alexa.tsv', delimiter = '\\t', quoting = 3)"
      ],
      "execution_count": 0,
      "outputs": []
    },
    {
      "metadata": {
        "id": "0YC7AuEM1mj3",
        "colab_type": "code",
        "outputId": "124efde4-d4e8-4457-c572-ba27815be2f4",
        "colab": {
          "base_uri": "https://localhost:8080/",
          "height": 2274
        }
      },
      "cell_type": "code",
      "source": [
        "print(dataset)"
      ],
      "execution_count": 0,
      "outputs": [
        {
          "output_type": "stream",
          "text": [
            "      rating       date             variation  \\\n",
            "0          5  31-Jul-18      Charcoal Fabric    \n",
            "1          5  31-Jul-18      Charcoal Fabric    \n",
            "2          4  31-Jul-18        Walnut Finish    \n",
            "3          5  31-Jul-18      Charcoal Fabric    \n",
            "4          5  31-Jul-18      Charcoal Fabric    \n",
            "5          5  31-Jul-18  Heather Gray Fabric    \n",
            "6          3  31-Jul-18     Sandstone Fabric    \n",
            "7          5  31-Jul-18      Charcoal Fabric    \n",
            "8          5  30-Jul-18  Heather Gray Fabric    \n",
            "9          5  30-Jul-18  Heather Gray Fabric    \n",
            "10         5  30-Jul-18      Charcoal Fabric    \n",
            "11         5  30-Jul-18      Charcoal Fabric    \n",
            "12         5  30-Jul-18           Oak Finish    \n",
            "13         5  30-Jul-18      Charcoal Fabric    \n",
            "14         5  30-Jul-18           Oak Finish    \n",
            "15         5  30-Jul-18  Heather Gray Fabric    \n",
            "16         5  30-Jul-18  Heather Gray Fabric    \n",
            "17         5  30-Jul-18  Heather Gray Fabric    \n",
            "18         5  30-Jul-18      Charcoal Fabric    \n",
            "19         4  30-Jul-18     Sandstone Fabric    \n",
            "20         5  30-Jul-18      Charcoal Fabric    \n",
            "21         5  30-Jul-18      Charcoal Fabric    \n",
            "22         4  30-Jul-18  Heather Gray Fabric    \n",
            "23         5  30-Jul-18      Charcoal Fabric    \n",
            "24         3  30-Jul-18     Sandstone Fabric    \n",
            "25         5  30-Jul-18     Sandstone Fabric    \n",
            "26         5  30-Jul-18      Charcoal Fabric    \n",
            "27         5  30-Jul-18      Charcoal Fabric    \n",
            "28         4  30-Jul-18      Charcoal Fabric    \n",
            "29         5  30-Jul-18      Charcoal Fabric    \n",
            "...      ...        ...                   ...   \n",
            "3120       5  30-Jul-18            Black  Dot   \n",
            "3121       5  30-Jul-18            Black  Dot   \n",
            "3122       3  30-Jul-18            Black  Dot   \n",
            "3123       4  30-Jul-18            Black  Dot   \n",
            "3124       5  30-Jul-18            Black  Dot   \n",
            "3125       4  30-Jul-18            Black  Dot   \n",
            "3126       5  30-Jul-18            Black  Dot   \n",
            "3127       4  30-Jul-18            Black  Dot   \n",
            "3128       5  30-Jul-18            White  Dot   \n",
            "3129       4  30-Jul-18            White  Dot   \n",
            "3130       5  30-Jul-18            Black  Dot   \n",
            "3131       5  30-Jul-18            Black  Dot   \n",
            "3132       5  30-Jul-18            Black  Dot   \n",
            "3133       4  30-Jul-18            White  Dot   \n",
            "3134       5  30-Jul-18            Black  Dot   \n",
            "3135       5  30-Jul-18            White  Dot   \n",
            "3136       4  30-Jul-18            Black  Dot   \n",
            "3137       5  30-Jul-18            Black  Dot   \n",
            "3138       5  30-Jul-18            White  Dot   \n",
            "3139       5  30-Jul-18            White  Dot   \n",
            "3140       4  30-Jul-18            White  Dot   \n",
            "3141       3  30-Jul-18            Black  Dot   \n",
            "3142       4  30-Jul-18            White  Dot   \n",
            "3143       5  30-Jul-18            Black  Dot   \n",
            "3144       5  30-Jul-18            Black  Dot   \n",
            "3145       5  30-Jul-18            Black  Dot   \n",
            "3146       5  30-Jul-18            Black  Dot   \n",
            "3147       5  30-Jul-18            Black  Dot   \n",
            "3148       5  30-Jul-18            White  Dot   \n",
            "3149       4  29-Jul-18            Black  Dot   \n",
            "\n",
            "                                       verified_reviews  feedback  \n",
            "0                                         Love my Echo!         1  \n",
            "1                                             Loved it!         1  \n",
            "2     \"Sometimes while playing a game, you can answe...         1  \n",
            "3     \"I have had a lot of fun with this thing. My 4...         1  \n",
            "4                                                 Music         1  \n",
            "5     \"I received the echo as a gift. I needed anoth...         1  \n",
            "6     \"Without having a cellphone, I cannot use many...         1  \n",
            "7     I think this is the 5th one I've purchased. I'...         1  \n",
            "8                                           looks great         1  \n",
            "9     \"Love it! I’ve listened to songs I haven’t hea...         1  \n",
            "10    \"I sent it to my 85 year old Dad, and he talks...         1  \n",
            "11    I love it! Learning knew things with it eveyda...         1  \n",
            "12    \"I purchased this for my mother who is having ...         1  \n",
            "13                                 \"Love, Love, Love!!\"         1  \n",
            "14                             Just what I expected....         1  \n",
            "15                          \"I love it, wife hates it.\"         1  \n",
            "16    Really happy with this purchase.  Great speake...         1  \n",
            "17    We have only been using Alexa for a couple of ...         1  \n",
            "18    We love the size of the 2nd generation echo. S...         1  \n",
            "19    \"I liked the original Echo. This is the same b...         1  \n",
            "20    Love the Echo and how good the music sounds pl...         1  \n",
            "21    \"We love Alexa! We use her to play music, play...         1  \n",
            "22    \"Have only had it set up for a few days. Still...         1  \n",
            "23    I love it. It plays my sleep sounds immediatel...         1  \n",
            "24    \"I got a second unit for the bedroom, I was ex...         1  \n",
            "25                                      Amazing product         1  \n",
            "26    \"I love my Echo. It's easy to operate, loads o...         1  \n",
            "27                            Sounds great!! Love them!         1  \n",
            "28    \"Fun item to play with and get used to using. ...         1  \n",
            "29                              Just like the other one         1  \n",
            "...                                                 ...       ...  \n",
            "3120                                                            1  \n",
            "3121  I like the hands free operation vs the Tap. We...         1  \n",
            "3122  I dislike that it confuses my requests all the...         1  \n",
            "3123                                                            1  \n",
            "3124  \"Love my Alexa! Actually have 3 throughout the...         1  \n",
            "3125  This product is easy to use and very entertain...         1  \n",
            "3126                                                            1  \n",
            "3127  works great but speaker is not the good for mu...         1  \n",
            "3128    Outstanding product - easy to use.  works great         1  \n",
            "3129  We have six of these throughout our home and t...         1  \n",
            "3130          Use the product for music and it’s great!         1  \n",
            "3131                         Easy to set-up and to use.         1  \n",
            "3132                                   It works great!!         1  \n",
            "3133  I like having more Alexa devices in my house a...         1  \n",
            "3134                                         PHENOMENAL         1  \n",
            "3135               I loved it does exactly what it says         1  \n",
            "3136  I used it to control my smart home devices. Wo...         1  \n",
            "3137                                    Very convenient         1  \n",
            "3138  \"Este producto llegó y a la semana se quedó si...         1  \n",
            "3139            Easy to set up Ready to use in minutes.         1  \n",
            "3140                                              Barry         1  \n",
            "3141                                                            1  \n",
            "3142  My three year old loves it.  Good for doing ba...         1  \n",
            "3143         Awesome device wish I bought one ages ago.         1  \n",
            "3144                                            love it         1  \n",
            "3145  \"Perfect for kids, adults and everyone in betw...         1  \n",
            "3146  \"Listening to music, searching locations, chec...         1  \n",
            "3147  \"I do love these things, i have them running m...         1  \n",
            "3148  \"Only complaint I have is that the sound quali...         1  \n",
            "3149                                               Good         1  \n",
            "\n",
            "[3150 rows x 5 columns]\n"
          ],
          "name": "stdout"
        }
      ]
    },
    {
      "metadata": {
        "id": "WuNpaELqg9Wb",
        "colab_type": "code",
        "outputId": "4e81c3f7-f825-4eb4-9151-ffa58cecea0d",
        "colab": {
          "base_uri": "https://localhost:8080/",
          "height": 52
        }
      },
      "cell_type": "code",
      "source": [
        "import re\n",
        "import nltk\n",
        "nltk.download('stopwords')\n",
        "from nltk.corpus import stopwords\n",
        "from nltk.stem.porter import PorterStemmer\n",
        "corpus = []"
      ],
      "execution_count": 0,
      "outputs": [
        {
          "output_type": "stream",
          "text": [
            "[nltk_data] Downloading package stopwords to /root/nltk_data...\n",
            "[nltk_data]   Unzipping corpora/stopwords.zip.\n"
          ],
          "name": "stdout"
        }
      ]
    },
    {
      "metadata": {
        "id": "m0AFQlpLoG-7",
        "colab_type": "code",
        "colab": {}
      },
      "cell_type": "code",
      "source": [
        "for i in range(0, 1000):\n",
        "    review = re.sub('[^a-zA-Z]', ' ', dataset.iloc[:,3][i])\n",
        "    \n",
        "    review_1 = re.sub('[^a-zA-Z]', ' ', dataset.iloc[:,2][i])\n",
        "    \n",
        "    review = review.lower()\n",
        "    review_1 = review_1.lower()\n",
        "    review = review.split()\n",
        "    review_1 = review_1.split()\n",
        "    r = review + review_1\n",
        "   # print(r)\n",
        "    ps = PorterStemmer()\n",
        "    r = [ps.stem(word) for word in r if not word in set(stopwords.words('english'))]\n",
        "    r = ' '.join(r)\n",
        "    #print(r)\n",
        "    corpus.append(r)\n",
        "#print(corpus)\n"
      ],
      "execution_count": 0,
      "outputs": []
    },
    {
      "metadata": {
        "id": "M52EXGxdoNCg",
        "colab_type": "code",
        "outputId": "fb52c6be-6ff5-4ab0-f8fd-92320be117a8",
        "colab": {
          "base_uri": "https://localhost:8080/",
          "height": 141
        }
      },
      "cell_type": "code",
      "source": [
        "from sklearn.feature_extraction.text import CountVectorizer\n",
        "cv = CountVectorizer()\n",
        "X = cv.fit_transform(corpus).toarray()\n",
        "y = dataset.iloc[:1000,4 ].values\n",
        "print(X)\n"
      ],
      "execution_count": 0,
      "outputs": [
        {
          "output_type": "stream",
          "text": [
            "[[0 0 0 ... 0 0 0]\n",
            " [0 0 0 ... 0 0 0]\n",
            " [0 1 0 ... 0 0 0]\n",
            " ...\n",
            " [0 0 0 ... 0 0 0]\n",
            " [0 0 0 ... 0 0 0]\n",
            " [0 0 0 ... 0 0 0]]\n"
          ],
          "name": "stdout"
        }
      ]
    },
    {
      "metadata": {
        "id": "lA-877aIoXcO",
        "colab_type": "code",
        "colab": {}
      },
      "cell_type": "code",
      "source": [
        " from sklearn.model_selection import train_test_split\n",
        "X_train, X_test, y_train, y_test = train_test_split(X, y, test_size = 0.2, random_state = 0)"
      ],
      "execution_count": 0,
      "outputs": []
    },
    {
      "metadata": {
        "id": "GzbP_5EDob4-",
        "colab_type": "code",
        "outputId": "49e71af7-f438-426b-a158-2b7daddef14e",
        "colab": {
          "base_uri": "https://localhost:8080/",
          "height": 143
        }
      },
      "cell_type": "code",
      "source": [
        "from sklearn.svm import SVC\n",
        "classifier = SVC(kernel = 'rbf')\n",
        "classifier.fit(X_train,y_train)"
      ],
      "execution_count": 0,
      "outputs": [
        {
          "output_type": "stream",
          "text": [
            "/usr/local/lib/python3.6/dist-packages/sklearn/svm/base.py:196: FutureWarning: The default value of gamma will change from 'auto' to 'scale' in version 0.22 to account better for unscaled features. Set gamma explicitly to 'auto' or 'scale' to avoid this warning.\n",
            "  \"avoid this warning.\", FutureWarning)\n"
          ],
          "name": "stderr"
        },
        {
          "output_type": "execute_result",
          "data": {
            "text/plain": [
              "SVC(C=1.0, cache_size=200, class_weight=None, coef0=0.0,\n",
              "  decision_function_shape='ovr', degree=3, gamma='auto_deprecated',\n",
              "  kernel='rbf', max_iter=-1, probability=False, random_state=None,\n",
              "  shrinking=True, tol=0.001, verbose=False)"
            ]
          },
          "metadata": {
            "tags": []
          },
          "execution_count": 16
        }
      ]
    },
    {
      "metadata": {
        "id": "yrkLp5AGo3US",
        "colab_type": "code",
        "colab": {}
      },
      "cell_type": "code",
      "source": [
        "y_pred = classifier.predict(X_test)"
      ],
      "execution_count": 0,
      "outputs": []
    },
    {
      "metadata": {
        "id": "t9qXWwUno9SW",
        "colab_type": "code",
        "colab": {}
      },
      "cell_type": "code",
      "source": [
        "from sklearn.metrics import confusion_matrix\n",
        "cm = confusion_matrix(y_test,y_pred)"
      ],
      "execution_count": 0,
      "outputs": []
    },
    {
      "metadata": {
        "id": "xvVjS0cZpB2d",
        "colab_type": "code",
        "outputId": "627f67ca-7262-4b1f-86a3-c2095b34e602",
        "colab": {
          "base_uri": "https://localhost:8080/",
          "height": 52
        }
      },
      "cell_type": "code",
      "source": [
        "print(cm)"
      ],
      "execution_count": 0,
      "outputs": [
        {
          "output_type": "stream",
          "text": [
            "[[  0   9]\n",
            " [  0 191]]\n"
          ],
          "name": "stdout"
        }
      ]
    },
    {
      "metadata": {
        "id": "Zdt5lL7sylqg",
        "colab_type": "code",
        "outputId": "6013fea4-7cf8-43e9-a661-07418a11d43c",
        "colab": {
          "base_uri": "https://localhost:8080/",
          "height": 141
        }
      },
      "cell_type": "code",
      "source": [
        "print(X)"
      ],
      "execution_count": 0,
      "outputs": [
        {
          "output_type": "stream",
          "text": [
            "[[1 0 0 ... 0 0 0]\n",
            " [1 0 0 ... 0 0 0]\n",
            " [1 0 1 ... 0 0 0]\n",
            " ...\n",
            " [1 0 0 ... 0 0 0]\n",
            " [1 0 0 ... 0 0 0]\n",
            " [1 0 0 ... 0 0 0]]\n"
          ],
          "name": "stdout"
        }
      ]
    },
    {
      "metadata": {
        "id": "Z9WDE75GpDwS",
        "colab_type": "code",
        "outputId": "488e62da-9bea-4775-ed48-7669c7f514f1",
        "colab": {
          "base_uri": "https://localhost:8080/",
          "height": 498
        }
      },
      "cell_type": "code",
      "source": [
        "import statsmodels.formula.api as sm\n",
        "X = np.append(arr = np.ones((1000,1)).astype(int), values = X , axis =1)\n",
        "X_opt = X[:,[0,1,2,3,4]]\n",
        "print(X_opt)\n",
        "classifier_OLS = sm.OLS(endog = y, exog = X_opt).fit()\n",
        "classifier_OLS.summary()"
      ],
      "execution_count": 0,
      "outputs": [
        {
          "output_type": "stream",
          "text": [
            "[[1 1 1 0 0]\n",
            " [1 1 1 0 0]\n",
            " [1 1 1 0 1]\n",
            " ...\n",
            " [1 1 1 0 0]\n",
            " [1 1 1 0 0]\n",
            " [1 1 1 0 0]]\n"
          ],
          "name": "stdout"
        },
        {
          "output_type": "execute_result",
          "data": {
            "text/html": [
              "<table class=\"simpletable\">\n",
              "<caption>OLS Regression Results</caption>\n",
              "<tr>\n",
              "  <th>Dep. Variable:</th>            <td>y</td>        <th>  R-squared:         </th> <td>  -0.115</td>\n",
              "</tr>\n",
              "<tr>\n",
              "  <th>Model:</th>                   <td>OLS</td>       <th>  Adj. R-squared:    </th> <td>  -0.119</td>\n",
              "</tr>\n",
              "<tr>\n",
              "  <th>Method:</th>             <td>Least Squares</td>  <th>  F-statistic:       </th> <td>  -34.28</td>\n",
              "</tr>\n",
              "<tr>\n",
              "  <th>Date:</th>             <td>Thu, 18 Apr 2019</td> <th>  Prob (F-statistic):</th>  <td>  1.00</td> \n",
              "</tr>\n",
              "<tr>\n",
              "  <th>Time:</th>                 <td>09:46:58</td>     <th>  Log-Likelihood:    </th> <td> -114.08</td>\n",
              "</tr>\n",
              "<tr>\n",
              "  <th>No. Observations:</th>      <td>  1000</td>      <th>  AIC:               </th> <td>   236.2</td>\n",
              "</tr>\n",
              "<tr>\n",
              "  <th>Df Residuals:</th>          <td>   996</td>      <th>  BIC:               </th> <td>   255.8</td>\n",
              "</tr>\n",
              "<tr>\n",
              "  <th>Df Model:</th>              <td>     3</td>      <th>                     </th>     <td> </td>   \n",
              "</tr>\n",
              "<tr>\n",
              "  <th>Covariance Type:</th>      <td>nonrobust</td>    <th>                     </th>     <td> </td>   \n",
              "</tr>\n",
              "</table>\n",
              "<table class=\"simpletable\">\n",
              "<tr>\n",
              "    <td></td>       <th>coef</th>     <th>std err</th>      <th>t</th>      <th>P>|t|</th>  <th>[0.025</th>    <th>0.975]</th>  \n",
              "</tr>\n",
              "<tr>\n",
              "  <th>const</th> <td> 6.176e+11</td> <td> 2.35e+12</td> <td>    0.263</td> <td> 0.793</td> <td>-3.99e+12</td> <td> 5.23e+12</td>\n",
              "</tr>\n",
              "<tr>\n",
              "  <th>x1</th>    <td>-3.088e+11</td> <td> 1.17e+12</td> <td>   -0.263</td> <td> 0.793</td> <td>-2.61e+12</td> <td>    2e+12</td>\n",
              "</tr>\n",
              "<tr>\n",
              "  <th>x2</th>    <td>-3.088e+11</td> <td> 1.18e+12</td> <td>   -0.263</td> <td> 0.793</td> <td>-2.61e+12</td> <td>    2e+12</td>\n",
              "</tr>\n",
              "<tr>\n",
              "  <th>x3</th>    <td>    0.0714</td> <td>    0.111</td> <td>    0.642</td> <td> 0.521</td> <td>   -0.147</td> <td>    0.290</td>\n",
              "</tr>\n",
              "<tr>\n",
              "  <th>x4</th>    <td>   -0.0025</td> <td>    0.051</td> <td>   -0.048</td> <td> 0.962</td> <td>   -0.103</td> <td>    0.098</td>\n",
              "</tr>\n",
              "</table>\n",
              "<table class=\"simpletable\">\n",
              "<tr>\n",
              "  <th>Omnibus:</th>       <td>687.892</td> <th>  Durbin-Watson:     </th> <td>   1.712</td>\n",
              "</tr>\n",
              "<tr>\n",
              "  <th>Prob(Omnibus):</th> <td> 0.000</td>  <th>  Jarque-Bera (JB):  </th> <td>5345.533</td>\n",
              "</tr>\n",
              "<tr>\n",
              "  <th>Skew:</th>          <td>-3.338</td>  <th>  Prob(JB):          </th> <td>    0.00</td>\n",
              "</tr>\n",
              "<tr>\n",
              "  <th>Kurtosis:</th>      <td>12.150</td>  <th>  Cond. No.          </th> <td>9.36e+18</td>\n",
              "</tr>\n",
              "</table>"
            ],
            "text/plain": [
              "<class 'statsmodels.iolib.summary.Summary'>\n",
              "\"\"\"\n",
              "                            OLS Regression Results                            \n",
              "==============================================================================\n",
              "Dep. Variable:                      y   R-squared:                      -0.115\n",
              "Model:                            OLS   Adj. R-squared:                 -0.119\n",
              "Method:                 Least Squares   F-statistic:                    -34.28\n",
              "Date:                Thu, 18 Apr 2019   Prob (F-statistic):               1.00\n",
              "Time:                        09:46:58   Log-Likelihood:                -114.08\n",
              "No. Observations:                1000   AIC:                             236.2\n",
              "Df Residuals:                     996   BIC:                             255.8\n",
              "Df Model:                           3                                         \n",
              "Covariance Type:            nonrobust                                         \n",
              "==============================================================================\n",
              "                 coef    std err          t      P>|t|      [0.025      0.975]\n",
              "------------------------------------------------------------------------------\n",
              "const       6.176e+11   2.35e+12      0.263      0.793   -3.99e+12    5.23e+12\n",
              "x1         -3.088e+11   1.17e+12     -0.263      0.793   -2.61e+12       2e+12\n",
              "x2         -3.088e+11   1.18e+12     -0.263      0.793   -2.61e+12       2e+12\n",
              "x3             0.0714      0.111      0.642      0.521      -0.147       0.290\n",
              "x4            -0.0025      0.051     -0.048      0.962      -0.103       0.098\n",
              "==============================================================================\n",
              "Omnibus:                      687.892   Durbin-Watson:                   1.712\n",
              "Prob(Omnibus):                  0.000   Jarque-Bera (JB):             5345.533\n",
              "Skew:                          -3.338   Prob(JB):                         0.00\n",
              "Kurtosis:                      12.150   Cond. No.                     9.36e+18\n",
              "==============================================================================\n",
              "\n",
              "Warnings:\n",
              "[1] Standard Errors assume that the covariance matrix of the errors is correctly specified.\n",
              "[2] The smallest eigenvalue is 3.42e-35. This might indicate that there are\n",
              "strong multicollinearity problems or that the design matrix is singular.\n",
              "\"\"\""
            ]
          },
          "metadata": {
            "tags": []
          },
          "execution_count": 20
        }
      ]
    },
    {
      "metadata": {
        "id": "qTM3R-sqyWQ1",
        "colab_type": "code",
        "outputId": "95956d27-19fb-4557-ac7c-e0b7531a43b5",
        "colab": {
          "base_uri": "https://localhost:8080/",
          "height": 356
        }
      },
      "cell_type": "code",
      "source": [
        "X_opt = X[:,[0,1,3,4]]\n",
        "classifier_OLS = sm.OLS(endog = y, exog = X_opt).fit()\n",
        "classifier_OLS.summary()"
      ],
      "execution_count": 0,
      "outputs": [
        {
          "output_type": "execute_result",
          "data": {
            "text/html": [
              "<table class=\"simpletable\">\n",
              "<caption>OLS Regression Results</caption>\n",
              "<tr>\n",
              "  <th>Dep. Variable:</th>            <td>y</td>        <th>  R-squared:         </th> <td>   0.001</td>\n",
              "</tr>\n",
              "<tr>\n",
              "  <th>Model:</th>                   <td>OLS</td>       <th>  Adj. R-squared:    </th> <td>  -0.002</td>\n",
              "</tr>\n",
              "<tr>\n",
              "  <th>Method:</th>             <td>Least Squares</td>  <th>  F-statistic:       </th> <td>  0.4657</td>\n",
              "</tr>\n",
              "<tr>\n",
              "  <th>Date:</th>             <td>Wed, 17 Apr 2019</td> <th>  Prob (F-statistic):</th>  <td> 0.706</td> \n",
              "</tr>\n",
              "<tr>\n",
              "  <th>Time:</th>                 <td>05:35:46</td>     <th>  Log-Likelihood:    </th> <td> -58.877</td>\n",
              "</tr>\n",
              "<tr>\n",
              "  <th>No. Observations:</th>      <td>  1000</td>      <th>  AIC:               </th> <td>   125.8</td>\n",
              "</tr>\n",
              "<tr>\n",
              "  <th>Df Residuals:</th>          <td>   996</td>      <th>  BIC:               </th> <td>   145.4</td>\n",
              "</tr>\n",
              "<tr>\n",
              "  <th>Df Model:</th>              <td>     3</td>      <th>                     </th>     <td> </td>   \n",
              "</tr>\n",
              "<tr>\n",
              "  <th>Covariance Type:</th>      <td>nonrobust</td>    <th>                     </th>     <td> </td>   \n",
              "</tr>\n",
              "</table>\n",
              "<table class=\"simpletable\">\n",
              "<tr>\n",
              "    <td></td>       <th>coef</th>     <th>std err</th>      <th>t</th>      <th>P>|t|</th>  <th>[0.025</th>    <th>0.975]</th>  \n",
              "</tr>\n",
              "<tr>\n",
              "  <th>const</th> <td>    0.9277</td> <td>    0.008</td> <td>  113.047</td> <td> 0.000</td> <td>    0.912</td> <td>    0.944</td>\n",
              "</tr>\n",
              "<tr>\n",
              "  <th>x1</th>    <td>    0.0723</td> <td>    0.105</td> <td>    0.687</td> <td> 0.493</td> <td>   -0.134</td> <td>    0.279</td>\n",
              "</tr>\n",
              "<tr>\n",
              "  <th>x2</th>    <td>    0.0723</td> <td>    0.182</td> <td>    0.397</td> <td> 0.691</td> <td>   -0.285</td> <td>    0.429</td>\n",
              "</tr>\n",
              "<tr>\n",
              "  <th>x3</th>    <td>    0.0723</td> <td>    0.082</td> <td>    0.885</td> <td> 0.377</td> <td>   -0.088</td> <td>    0.233</td>\n",
              "</tr>\n",
              "</table>\n",
              "<table class=\"simpletable\">\n",
              "<tr>\n",
              "  <th>Omnibus:</th>       <td>686.898</td> <th>  Durbin-Watson:     </th> <td>   1.903</td>\n",
              "</tr>\n",
              "<tr>\n",
              "  <th>Prob(Omnibus):</th> <td> 0.000</td>  <th>  Jarque-Bera (JB):  </th> <td>5322.564</td>\n",
              "</tr>\n",
              "<tr>\n",
              "  <th>Skew:</th>          <td>-3.333</td>  <th>  Prob(JB):          </th> <td>    0.00</td>\n",
              "</tr>\n",
              "<tr>\n",
              "  <th>Kurtosis:</th>      <td>12.127</td>  <th>  Cond. No.          </th> <td>    22.4</td>\n",
              "</tr>\n",
              "</table>"
            ],
            "text/plain": [
              "<class 'statsmodels.iolib.summary.Summary'>\n",
              "\"\"\"\n",
              "                            OLS Regression Results                            \n",
              "==============================================================================\n",
              "Dep. Variable:                      y   R-squared:                       0.001\n",
              "Model:                            OLS   Adj. R-squared:                 -0.002\n",
              "Method:                 Least Squares   F-statistic:                    0.4657\n",
              "Date:                Wed, 17 Apr 2019   Prob (F-statistic):              0.706\n",
              "Time:                        05:35:46   Log-Likelihood:                -58.877\n",
              "No. Observations:                1000   AIC:                             125.8\n",
              "Df Residuals:                     996   BIC:                             145.4\n",
              "Df Model:                           3                                         \n",
              "Covariance Type:            nonrobust                                         \n",
              "==============================================================================\n",
              "                 coef    std err          t      P>|t|      [0.025      0.975]\n",
              "------------------------------------------------------------------------------\n",
              "const          0.9277      0.008    113.047      0.000       0.912       0.944\n",
              "x1             0.0723      0.105      0.687      0.493      -0.134       0.279\n",
              "x2             0.0723      0.182      0.397      0.691      -0.285       0.429\n",
              "x3             0.0723      0.082      0.885      0.377      -0.088       0.233\n",
              "==============================================================================\n",
              "Omnibus:                      686.898   Durbin-Watson:                   1.903\n",
              "Prob(Omnibus):                  0.000   Jarque-Bera (JB):             5322.564\n",
              "Skew:                          -3.333   Prob(JB):                         0.00\n",
              "Kurtosis:                      12.127   Cond. No.                         22.4\n",
              "==============================================================================\n",
              "\n",
              "Warnings:\n",
              "[1] Standard Errors assume that the covariance matrix of the errors is correctly specified.\n",
              "\"\"\""
            ]
          },
          "metadata": {
            "tags": []
          },
          "execution_count": 24
        }
      ]
    },
    {
      "metadata": {
        "id": "BBVXyawMyy88",
        "colab_type": "code",
        "outputId": "dbef2173-3494-4364-ba8f-4f0f1457befe",
        "colab": {
          "base_uri": "https://localhost:8080/",
          "height": 338
        }
      },
      "cell_type": "code",
      "source": [
        "X_opt = X[:,[0,1,4]]\n",
        "classifier_OLS = sm.OLS(endog = y, exog = X_opt).fit()\n",
        "classifier_OLS.summary()"
      ],
      "execution_count": 0,
      "outputs": [
        {
          "output_type": "execute_result",
          "data": {
            "text/html": [
              "<table class=\"simpletable\">\n",
              "<caption>OLS Regression Results</caption>\n",
              "<tr>\n",
              "  <th>Dep. Variable:</th>            <td>y</td>        <th>  R-squared:         </th> <td>   0.001</td>\n",
              "</tr>\n",
              "<tr>\n",
              "  <th>Model:</th>                   <td>OLS</td>       <th>  Adj. R-squared:    </th> <td>  -0.001</td>\n",
              "</tr>\n",
              "<tr>\n",
              "  <th>Method:</th>             <td>Least Squares</td>  <th>  F-statistic:       </th> <td>  0.6203</td>\n",
              "</tr>\n",
              "<tr>\n",
              "  <th>Date:</th>             <td>Wed, 17 Apr 2019</td> <th>  Prob (F-statistic):</th>  <td> 0.538</td> \n",
              "</tr>\n",
              "<tr>\n",
              "  <th>Time:</th>                 <td>05:44:46</td>     <th>  Log-Likelihood:    </th> <td> -58.956</td>\n",
              "</tr>\n",
              "<tr>\n",
              "  <th>No. Observations:</th>      <td>  1000</td>      <th>  AIC:               </th> <td>   123.9</td>\n",
              "</tr>\n",
              "<tr>\n",
              "  <th>Df Residuals:</th>          <td>   997</td>      <th>  BIC:               </th> <td>   138.6</td>\n",
              "</tr>\n",
              "<tr>\n",
              "  <th>Df Model:</th>              <td>     2</td>      <th>                     </th>     <td> </td>   \n",
              "</tr>\n",
              "<tr>\n",
              "  <th>Covariance Type:</th>      <td>nonrobust</td>    <th>                     </th>     <td> </td>   \n",
              "</tr>\n",
              "</table>\n",
              "<table class=\"simpletable\">\n",
              "<tr>\n",
              "    <td></td>       <th>coef</th>     <th>std err</th>      <th>t</th>      <th>P>|t|</th>  <th>[0.025</th>    <th>0.975]</th>  \n",
              "</tr>\n",
              "<tr>\n",
              "  <th>const</th> <td>    0.9278</td> <td>    0.008</td> <td>  113.228</td> <td> 0.000</td> <td>    0.912</td> <td>    0.944</td>\n",
              "</tr>\n",
              "<tr>\n",
              "  <th>x1</th>    <td>    0.0722</td> <td>    0.105</td> <td>    0.685</td> <td> 0.493</td> <td>   -0.134</td> <td>    0.279</td>\n",
              "</tr>\n",
              "<tr>\n",
              "  <th>x2</th>    <td>    0.0722</td> <td>    0.082</td> <td>    0.883</td> <td> 0.377</td> <td>   -0.088</td> <td>    0.232</td>\n",
              "</tr>\n",
              "</table>\n",
              "<table class=\"simpletable\">\n",
              "<tr>\n",
              "  <th>Omnibus:</th>       <td>687.066</td> <th>  Durbin-Watson:     </th> <td>   1.902</td>\n",
              "</tr>\n",
              "<tr>\n",
              "  <th>Prob(Omnibus):</th> <td> 0.000</td>  <th>  Jarque-Bera (JB):  </th> <td>5326.437</td>\n",
              "</tr>\n",
              "<tr>\n",
              "  <th>Skew:</th>          <td>-3.334</td>  <th>  Prob(JB):          </th> <td>    0.00</td>\n",
              "</tr>\n",
              "<tr>\n",
              "  <th>Kurtosis:</th>      <td>12.131</td>  <th>  Cond. No.          </th> <td>    13.0</td>\n",
              "</tr>\n",
              "</table>"
            ],
            "text/plain": [
              "<class 'statsmodels.iolib.summary.Summary'>\n",
              "\"\"\"\n",
              "                            OLS Regression Results                            \n",
              "==============================================================================\n",
              "Dep. Variable:                      y   R-squared:                       0.001\n",
              "Model:                            OLS   Adj. R-squared:                 -0.001\n",
              "Method:                 Least Squares   F-statistic:                    0.6203\n",
              "Date:                Wed, 17 Apr 2019   Prob (F-statistic):              0.538\n",
              "Time:                        05:44:46   Log-Likelihood:                -58.956\n",
              "No. Observations:                1000   AIC:                             123.9\n",
              "Df Residuals:                     997   BIC:                             138.6\n",
              "Df Model:                           2                                         \n",
              "Covariance Type:            nonrobust                                         \n",
              "==============================================================================\n",
              "                 coef    std err          t      P>|t|      [0.025      0.975]\n",
              "------------------------------------------------------------------------------\n",
              "const          0.9278      0.008    113.228      0.000       0.912       0.944\n",
              "x1             0.0722      0.105      0.685      0.493      -0.134       0.279\n",
              "x2             0.0722      0.082      0.883      0.377      -0.088       0.232\n",
              "==============================================================================\n",
              "Omnibus:                      687.066   Durbin-Watson:                   1.902\n",
              "Prob(Omnibus):                  0.000   Jarque-Bera (JB):             5326.437\n",
              "Skew:                          -3.334   Prob(JB):                         0.00\n",
              "Kurtosis:                      12.131   Cond. No.                         13.0\n",
              "==============================================================================\n",
              "\n",
              "Warnings:\n",
              "[1] Standard Errors assume that the covariance matrix of the errors is correctly specified.\n",
              "\"\"\""
            ]
          },
          "metadata": {
            "tags": []
          },
          "execution_count": 26
        }
      ]
    },
    {
      "metadata": {
        "id": "Qi1ddJhWzu82",
        "colab_type": "code",
        "outputId": "3e4179df-cdb8-4fc5-eb46-cc20ceaf505b",
        "colab": {
          "base_uri": "https://localhost:8080/",
          "height": 321
        }
      },
      "cell_type": "code",
      "source": [
        "X_opt = X[:,[0,4]]\n",
        "classifier_OLS = sm.OLS(endog = y, exog = X_opt).fit()\n",
        "classifier_OLS.summary()"
      ],
      "execution_count": 0,
      "outputs": [
        {
          "output_type": "execute_result",
          "data": {
            "text/html": [
              "<table class=\"simpletable\">\n",
              "<caption>OLS Regression Results</caption>\n",
              "<tr>\n",
              "  <th>Dep. Variable:</th>            <td>y</td>        <th>  R-squared:         </th> <td>   0.001</td>\n",
              "</tr>\n",
              "<tr>\n",
              "  <th>Model:</th>                   <td>OLS</td>       <th>  Adj. R-squared:    </th> <td>  -0.000</td>\n",
              "</tr>\n",
              "<tr>\n",
              "  <th>Method:</th>             <td>Least Squares</td>  <th>  F-statistic:       </th> <td>  0.7710</td>\n",
              "</tr>\n",
              "<tr>\n",
              "  <th>Date:</th>             <td>Thu, 18 Apr 2019</td> <th>  Prob (F-statistic):</th>  <td> 0.380</td> \n",
              "</tr>\n",
              "<tr>\n",
              "  <th>Time:</th>                 <td>09:45:16</td>     <th>  Log-Likelihood:    </th> <td> -59.191</td>\n",
              "</tr>\n",
              "<tr>\n",
              "  <th>No. Observations:</th>      <td>  1000</td>      <th>  AIC:               </th> <td>   122.4</td>\n",
              "</tr>\n",
              "<tr>\n",
              "  <th>Df Residuals:</th>          <td>   998</td>      <th>  BIC:               </th> <td>   132.2</td>\n",
              "</tr>\n",
              "<tr>\n",
              "  <th>Df Model:</th>              <td>     1</td>      <th>                     </th>     <td> </td>   \n",
              "</tr>\n",
              "<tr>\n",
              "  <th>Covariance Type:</th>      <td>nonrobust</td>    <th>                     </th>     <td> </td>   \n",
              "</tr>\n",
              "</table>\n",
              "<table class=\"simpletable\">\n",
              "<tr>\n",
              "    <td></td>       <th>coef</th>     <th>std err</th>      <th>t</th>      <th>P>|t|</th>  <th>[0.025</th>    <th>0.975]</th>  \n",
              "</tr>\n",
              "<tr>\n",
              "  <th>const</th> <td>    0.9283</td> <td>    0.008</td> <td>  113.656</td> <td> 0.000</td> <td>    0.912</td> <td>    0.944</td>\n",
              "</tr>\n",
              "<tr>\n",
              "  <th>x1</th>    <td>    0.0717</td> <td>    0.082</td> <td>    0.878</td> <td> 0.380</td> <td>   -0.089</td> <td>    0.232</td>\n",
              "</tr>\n",
              "</table>\n",
              "<table class=\"simpletable\">\n",
              "<tr>\n",
              "  <th>Omnibus:</th>       <td>687.565</td> <th>  Durbin-Watson:     </th> <td>   1.902</td>\n",
              "</tr>\n",
              "<tr>\n",
              "  <th>Prob(Omnibus):</th> <td> 0.000</td>  <th>  Jarque-Bera (JB):  </th> <td>5337.975</td>\n",
              "</tr>\n",
              "<tr>\n",
              "  <th>Skew:</th>          <td>-3.337</td>  <th>  Prob(JB):          </th> <td>    0.00</td>\n",
              "</tr>\n",
              "<tr>\n",
              "  <th>Kurtosis:</th>      <td>12.142</td>  <th>  Cond. No.          </th> <td>    10.1</td>\n",
              "</tr>\n",
              "</table>"
            ],
            "text/plain": [
              "<class 'statsmodels.iolib.summary.Summary'>\n",
              "\"\"\"\n",
              "                            OLS Regression Results                            \n",
              "==============================================================================\n",
              "Dep. Variable:                      y   R-squared:                       0.001\n",
              "Model:                            OLS   Adj. R-squared:                 -0.000\n",
              "Method:                 Least Squares   F-statistic:                    0.7710\n",
              "Date:                Thu, 18 Apr 2019   Prob (F-statistic):              0.380\n",
              "Time:                        09:45:16   Log-Likelihood:                -59.191\n",
              "No. Observations:                1000   AIC:                             122.4\n",
              "Df Residuals:                     998   BIC:                             132.2\n",
              "Df Model:                           1                                         \n",
              "Covariance Type:            nonrobust                                         \n",
              "==============================================================================\n",
              "                 coef    std err          t      P>|t|      [0.025      0.975]\n",
              "------------------------------------------------------------------------------\n",
              "const          0.9283      0.008    113.656      0.000       0.912       0.944\n",
              "x1             0.0717      0.082      0.878      0.380      -0.089       0.232\n",
              "==============================================================================\n",
              "Omnibus:                      687.565   Durbin-Watson:                   1.902\n",
              "Prob(Omnibus):                  0.000   Jarque-Bera (JB):             5337.975\n",
              "Skew:                          -3.337   Prob(JB):                         0.00\n",
              "Kurtosis:                      12.142   Cond. No.                         10.1\n",
              "==============================================================================\n",
              "\n",
              "Warnings:\n",
              "[1] Standard Errors assume that the covariance matrix of the errors is correctly specified.\n",
              "\"\"\""
            ]
          },
          "metadata": {
            "tags": []
          },
          "execution_count": 15
        }
      ]
    },
    {
      "metadata": {
        "id": "VkCyQ2kg1fVr",
        "colab_type": "code",
        "outputId": "e5135c45-6374-444c-e1a3-0891e5ac3392",
        "colab": {
          "base_uri": "https://localhost:8080/",
          "height": 141
        }
      },
      "cell_type": "code",
      "source": [
        "print(X)"
      ],
      "execution_count": 0,
      "outputs": [
        {
          "output_type": "stream",
          "text": [
            "[[1 0 0 ... 0 0 0]\n",
            " [1 0 0 ... 0 0 0]\n",
            " [1 0 1 ... 0 0 0]\n",
            " ...\n",
            " [1 0 0 ... 0 0 0]\n",
            " [1 0 0 ... 0 0 0]\n",
            " [1 0 0 ... 0 0 0]]\n"
          ],
          "name": "stdout"
        }
      ]
    },
    {
      "metadata": {
        "id": "rbdMwb2CyhTt",
        "colab_type": "code",
        "colab": {}
      },
      "cell_type": "code",
      "source": [
        "for i in range(0, 1000):\n",
        "    review = re.sub('[^a-zA-Z]', ' ', dataset['verified_reviews'][i])\n",
        "    \n",
        "  #  review_1 = re.sub('[^a-zA-Z]', ' ', dataset.iloc[:,2][i])\n",
        "    \n",
        "    review = review.lower()\n",
        "  #  review_1 = review_1.lower()\n",
        "    review = review.split()\n",
        "   # review_1 = review_1.split()\n",
        "    r = review \n",
        "   # print(r)\n",
        "    ps = PorterStemmer()\n",
        "    r = [ps.stem(word) for word in r if not word in set(stopwords.words('english'))]\n",
        "    r = ' '.join(r)\n",
        "    #print(r)\n",
        "    corpus.append(r)\n",
        "#print(corpus)\n"
      ],
      "execution_count": 0,
      "outputs": []
    },
    {
      "metadata": {
        "id": "wmhTjN_11NWU",
        "colab_type": "code",
        "outputId": "93821aea-8751-4503-e279-95205172f713",
        "colab": {
          "base_uri": "https://localhost:8080/",
          "height": 34
        }
      },
      "cell_type": "code",
      "source": [
        "from sklearn.feature_extraction.text import CountVectorizer\n",
        "cv = CountVectorizer()\n",
        "X = cv.fit_transform(corpus).toarray()\n",
        "y = dataset.iloc[:3000,4 ].values\n",
        "y.shape"
      ],
      "execution_count": 0,
      "outputs": [
        {
          "output_type": "execute_result",
          "data": {
            "text/plain": [
              "(3000,)"
            ]
          },
          "metadata": {
            "tags": []
          },
          "execution_count": 37
        }
      ]
    },
    {
      "metadata": {
        "id": "trQgsECg1Wgv",
        "colab_type": "code",
        "colab": {}
      },
      "cell_type": "code",
      "source": [
        " from sklearn.model_selection import train_test_split\n",
        "X_train, X_test, y_train, y_test = train_test_split(X, y, test_size = 0.2, random_state = 0)"
      ],
      "execution_count": 0,
      "outputs": []
    },
    {
      "metadata": {
        "id": "BQN8Jby41_kz",
        "colab_type": "code",
        "outputId": "79bea19a-24a0-492d-ff02-59575492ab80",
        "colab": {
          "base_uri": "https://localhost:8080/",
          "height": 87
        }
      },
      "cell_type": "code",
      "source": [
        "from sklearn.svm import SVC\n",
        "classifier = SVC(kernel = 'linear')\n",
        "classifier.fit(X_train,y_train)"
      ],
      "execution_count": 0,
      "outputs": [
        {
          "output_type": "execute_result",
          "data": {
            "text/plain": [
              "SVC(C=1.0, cache_size=200, class_weight=None, coef0=0.0,\n",
              "  decision_function_shape='ovr', degree=3, gamma='auto_deprecated',\n",
              "  kernel='linear', max_iter=-1, probability=False, random_state=None,\n",
              "  shrinking=True, tol=0.001, verbose=False)"
            ]
          },
          "metadata": {
            "tags": []
          },
          "execution_count": 46
        }
      ]
    },
    {
      "metadata": {
        "id": "RV8UJgOJ2EHi",
        "colab_type": "code",
        "colab": {}
      },
      "cell_type": "code",
      "source": [
        "y_pred = classifier.predict(X_test)"
      ],
      "execution_count": 0,
      "outputs": []
    },
    {
      "metadata": {
        "id": "FsVnMnSi1ou5",
        "colab_type": "code",
        "colab": {}
      },
      "cell_type": "code",
      "source": [
        "from sklearn.metrics import confusion_matrix\n",
        "cm = confusion_matrix(y_test,y_pred)"
      ],
      "execution_count": 0,
      "outputs": []
    },
    {
      "metadata": {
        "id": "N5N4D1R12MWN",
        "colab_type": "code",
        "outputId": "5c78f41f-67d6-47d0-c1e8-8d461b1ee899",
        "colab": {
          "base_uri": "https://localhost:8080/",
          "height": 52
        }
      },
      "cell_type": "code",
      "source": [
        "print(cm)"
      ],
      "execution_count": 0,
      "outputs": [
        {
          "output_type": "stream",
          "text": [
            "[[  2  51]\n",
            " [  8 539]]\n"
          ],
          "name": "stdout"
        }
      ]
    },
    {
      "metadata": {
        "id": "uuANRTUT2OiH",
        "colab_type": "code",
        "outputId": "82a3b387-e034-454d-cf22-a6ea89bf4b1d",
        "colab": {
          "base_uri": "https://localhost:8080/",
          "height": 34
        }
      },
      "cell_type": "code",
      "source": [
        "y_test.shape"
      ],
      "execution_count": 0,
      "outputs": [
        {
          "output_type": "execute_result",
          "data": {
            "text/plain": [
              "(600,)"
            ]
          },
          "metadata": {
            "tags": []
          },
          "execution_count": 44
        }
      ]
    },
    {
      "metadata": {
        "id": "PJW9BCzv2aie",
        "colab_type": "code",
        "outputId": "dc821a0a-9348-4597-d0a2-4e4ca7e839cd",
        "colab": {
          "base_uri": "https://localhost:8080/",
          "height": 34
        }
      },
      "cell_type": "code",
      "source": [
        "541/600"
      ],
      "execution_count": 0,
      "outputs": [
        {
          "output_type": "execute_result",
          "data": {
            "text/plain": [
              "0.9016666666666666"
            ]
          },
          "metadata": {
            "tags": []
          },
          "execution_count": 50
        }
      ]
    }
  ]
}